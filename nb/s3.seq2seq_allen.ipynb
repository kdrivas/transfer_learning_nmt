{
 "cells": [
  {
   "cell_type": "code",
   "execution_count": 1,
   "metadata": {},
   "outputs": [],
   "source": [
    "import os\n",
    "os.chdir('../')"
   ]
  },
  {
   "cell_type": "code",
   "execution_count": null,
   "metadata": {},
   "outputs": [],
   "source": []
  },
  {
   "cell_type": "code",
   "execution_count": null,
   "metadata": {},
   "outputs": [],
   "source": []
  },
  {
   "cell_type": "code",
   "execution_count": null,
   "metadata": {},
   "outputs": [],
   "source": []
  },
  {
   "cell_type": "code",
   "execution_count": 11,
   "metadata": {},
   "outputs": [],
   "source": [
    "random_seed(seed)\n",
    "rnn = torch.nn.LSTM(emb_sz, n_hid, dropout=0.25, num_layers=2, bidirectional=True, batch_first=True)\n",
    "\n",
    "random_seed(seed)\n",
    "encoder = PytorchSeq2SeqWrapper(rnn)\n",
    "\n",
    "random_seed(seed)\n",
    "source_embedder = BasicTextFieldEmbedder({\"tokens\": en_embedding})\n",
    "\n",
    "attention = DotProductAttention()\n",
    "#attention = LinearAttention(n_hid, n_hid, activation=Activation.by_name('tanh')())"
   ]
  },
  {
   "cell_type": "code",
   "execution_count": 12,
   "metadata": {},
   "outputs": [],
   "source": [
    "max_decoding_steps = 100   # TODO: make this variable\n",
    "random_seed(seed)\n",
    "model = SimpleSeq2Seq(vocab, source_embedder, encoder, max_decoding_steps,\n",
    "                      target_embedding_dim=emb_sz,\n",
    "                      target_namespace='target_tokens',\n",
    "                      attention=attention,\n",
    "                      seed=seed,\n",
    "                      scheduled_sampling_ratio=0,\n",
    "                      mode='word',\n",
    "                      beam_size=1,\n",
    "                      use_bleu=True).cuda(cuda_id)"
   ]
  },
  {
   "cell_type": "code",
   "execution_count": 13,
   "metadata": {},
   "outputs": [],
   "source": [
    "optimizer = optim.Adam(model.parameters())\n",
    "iterator = BucketIterator(batch_size=48, sorting_keys=[(\"source_tokens\", \"num_tokens\")])\n",
    "\n",
    "iterator.index_with(vocab)"
   ]
  },
  {
   "cell_type": "code",
   "execution_count": 8,
   "metadata": {
    "scrolled": true
   },
   "outputs": [
    {
     "name": "stderr",
     "output_type": "stream",
     "text": [
      "You provided a validation dataset but patience was set to None, meaning that early stopping is disabled\n",
      "loss: 6.6997 ||: 100%|██████████| 125/125 [00:12<00:00,  9.84it/s]\n",
      "BLEU: 0.0000, loss: 6.4466 ||: 100%|██████████| 16/16 [00:01<00:00, 10.13it/s]\n",
      "loss: 6.0505 ||: 100%|██████████| 125/125 [00:12<00:00, 10.34it/s]\n",
      "BLEU: 0.0000, loss: 6.2729 ||: 100%|██████████| 16/16 [00:03<00:00,  4.33it/s]\n",
      "loss: 5.7174 ||: 100%|██████████| 125/125 [00:12<00:00, 10.30it/s]\n",
      "BLEU: 0.0000, loss: 6.1824 ||: 100%|██████████| 16/16 [00:03<00:00,  4.24it/s]\n",
      "loss: 5.3607 ||: 100%|██████████| 125/125 [00:12<00:00, 10.14it/s]\n",
      "BLEU: 0.0025, loss: 6.1199 ||: 100%|██████████| 16/16 [00:04<00:00,  3.84it/s]\n",
      "loss: 4.9794 ||: 100%|██████████| 125/125 [00:12<00:00, 10.29it/s]\n",
      "BLEU: 0.0000, loss: 6.0624 ||: 100%|██████████| 16/16 [00:02<00:00,  5.55it/s]\n"
     ]
    },
    {
     "data": {
      "text/plain": [
       "{'best_epoch': 3,\n",
       " 'peak_cpu_memory_MB': 2419.492,\n",
       " 'peak_gpu_0_memory_MB': 2851,\n",
       " 'training_duration': '00:01:17',\n",
       " 'training_start_epoch': 0,\n",
       " 'training_epochs': 4,\n",
       " 'epoch': 4,\n",
       " 'training_loss': 4.979407690048218,\n",
       " 'training_cpu_memory_MB': 2419.492,\n",
       " 'training_gpu_0_memory_MB': 2851,\n",
       " 'validation_BLEU': 1.8683536506125043e-06,\n",
       " 'validation_loss': 6.062360018491745,\n",
       " 'best_validation_BLEU': 0.002512392654034492,\n",
       " 'best_validation_loss': 6.1198570728302}"
      ]
     },
     "execution_count": 8,
     "metadata": {},
     "output_type": "execute_result"
    }
   ],
   "source": [
    "trainer = Trainer(model=model,\n",
    "                  optimizer=optimizer,\n",
    "                  iterator=iterator,\n",
    "                  train_dataset=train_dataset,\n",
    "                  validation_dataset=validation_dataset,\n",
    "                  validation_metric='+BLEU',\n",
    "                  num_epochs=5,\n",
    "                  #serialization_dir='temp1',\n",
    "                  cuda_device=cuda_id)\n",
    "\n",
    "trainer.train()   "
   ]
  },
  {
   "cell_type": "code",
   "execution_count": 14,
   "metadata": {
    "scrolled": true
   },
   "outputs": [
    {
     "name": "stderr",
     "output_type": "stream",
     "text": [
      "You provided a validation dataset but patience was set to None, meaning that early stopping is disabled\n",
      "loss: 6.7027 ||: 100%|██████████| 125/125 [00:13<00:00,  9.19it/s]\n",
      "BLEU: 0.0000, loss: 6.4570 ||: 100%|██████████| 16/16 [00:01<00:00,  9.67it/s]\n",
      "loss: 6.0616 ||: 100%|██████████| 125/125 [00:13<00:00,  9.30it/s]\n",
      "BLEU: 0.0000, loss: 6.2846 ||: 100%|██████████| 16/16 [00:04<00:00,  3.71it/s]\n",
      "loss: 5.7169 ||: 100%|██████████| 125/125 [00:13<00:00,  9.28it/s]\n",
      "BLEU: 0.0000, loss: 6.1733 ||: 100%|██████████| 16/16 [00:04<00:00,  3.48it/s]\n",
      "loss: 5.3694 ||: 100%|██████████| 125/125 [00:13<00:00,  9.25it/s]\n",
      "BLEU: 0.0035, loss: 6.1236 ||: 100%|██████████| 16/16 [00:02<00:00,  5.98it/s]\n",
      "loss: 4.9955 ||: 100%|██████████| 125/125 [00:13<00:00,  9.42it/s]\n",
      "BLEU: 0.0000, loss: 6.0683 ||: 100%|██████████| 16/16 [00:02<00:00,  5.57it/s]\n"
     ]
    },
    {
     "data": {
      "text/plain": [
       "{'best_epoch': 3,\n",
       " 'peak_cpu_memory_MB': 2502.136,\n",
       " 'peak_gpu_0_memory_MB': 2851,\n",
       " 'training_duration': '00:01:23',\n",
       " 'training_start_epoch': 0,\n",
       " 'training_epochs': 4,\n",
       " 'epoch': 4,\n",
       " 'training_loss': 4.995536445617676,\n",
       " 'training_cpu_memory_MB': 2502.136,\n",
       " 'training_gpu_0_memory_MB': 2851,\n",
       " 'validation_BLEU': 1.6411359862230068e-06,\n",
       " 'validation_loss': 6.068288892507553,\n",
       " 'best_validation_BLEU': 0.003538747884663674,\n",
       " 'best_validation_loss': 6.123574078083038}"
      ]
     },
     "execution_count": 14,
     "metadata": {},
     "output_type": "execute_result"
    }
   ],
   "source": [
    "trainer = Trainer(model=model,\n",
    "                  optimizer=optimizer,\n",
    "                  iterator=iterator,\n",
    "                  train_dataset=train_dataset,\n",
    "                  validation_dataset=validation_dataset,\n",
    "                  validation_metric='+BLEU',\n",
    "                  num_epochs=5,\n",
    "                  #serialization_dir='temp1',\n",
    "                  cuda_device=cuda_id)\n",
    "\n",
    "trainer.train()   "
   ]
  },
  {
   "cell_type": "code",
   "execution_count": null,
   "metadata": {
    "scrolled": true
   },
   "outputs": [
    {
     "name": "stderr",
     "output_type": "stream",
     "text": [
      "You provided a validation dataset but patience was set to None, meaning that early stopping is disabled\n",
      "loss: 6.7027 ||: 100%|██████████| 125/125 [00:13<00:00,  9.19it/s]\n",
      "BLEU: 0.0000, loss: 6.4570 ||: 100%|██████████| 16/16 [00:01<00:00,  9.67it/s]\n",
      "loss: 6.0616 ||: 100%|██████████| 125/125 [00:13<00:00,  9.30it/s]\n",
      "BLEU: 0.0000, loss: 6.2846 ||: 100%|██████████| 16/16 [00:04<00:00,  3.71it/s]\n",
      "loss: 5.7169 ||: 100%|██████████| 125/125 [00:13<00:00,  9.28it/s]\n",
      "BLEU: 0.0000, loss: 6.1733 ||: 100%|██████████| 16/16 [00:04<00:00,  3.48it/s]\n",
      "loss: 5.3874 ||:  35%|███▌      | 44/125 [00:05<00:09,  8.32it/s]"
     ]
    }
   ],
   "source": [
    "trainer = Trainer(model=model,\n",
    "                  optimizer=optimizer,\n",
    "                  iterator=iterator,\n",
    "                  train_dataset=train_dataset,\n",
    "                  validation_dataset=validation_dataset,\n",
    "                  validation_metric='+BLEU',\n",
    "                  num_epochs=5,\n",
    "                  #serialization_dir='temp1',\n",
    "                  cuda_device=cuda_id)\n",
    "\n",
    "trainer.train()   "
   ]
  },
  {
   "cell_type": "code",
   "execution_count": 11,
   "metadata": {},
   "outputs": [
    {
     "data": {
      "text/plain": [
       "{'best_epoch': 8,\n",
       " 'best_validation_BLEU': 0.011378326800353748,\n",
       " 'best_validation_loss': 6.618885815143585}"
      ]
     },
     "execution_count": 11,
     "metadata": {},
     "output_type": "execute_result"
    }
   ],
   "source": [
    "trainer.train()"
   ]
  },
  {
   "cell_type": "code",
   "execution_count": 12,
   "metadata": {},
   "outputs": [
    {
     "name": "stderr",
     "output_type": "stream",
     "text": [
      "BLEU: 0.00, loss: 6.68 ||: 100%|██████████| 16/16 [00:02<00:00,  7.01it/s]\n"
     ]
    }
   ],
   "source": [
    "with open(\"temp/best.th\", 'rb') as f_model:\n",
    "    model.load_state_dict(torch.load(f_model))\n",
    "model.eval()\n",
    "e = evaluate(model, test_dataset, iterator, cuda_id, None)    \n",
    "\n",
    "predictor = SimpleSeq2SeqPredictor(model, reader)"
   ]
  },
  {
   "cell_type": "code",
   "execution_count": 10,
   "metadata": {},
   "outputs": [
    {
     "name": "stdout",
     "output_type": "stream",
     "text": [
      "SOURCE: [@start@, no, junten, tesoros, y, reservas, aquí, en, la, tierra, donde, la, polilla, y, el, óxido, hacen, estragos, y, donde, los, ladrones, rompen, el, muro, y, roban, @end@]\n",
      "GOLD: [@start@, nato, mainxon, icha, jawéki, kaiakasi, iamakanwe, ja, jawékibora, arai, keyotai, jatíribibora, jawen, ibon, pia, payotai, jainxonra, yometsobaon, mato, yometsoati, atipanke, @end@]\n",
      "PRED: ['jaskara', 'iken', 'ja', 'non', 'mato', 'ja', 'non', 'ja', 'ja', 'ja', 'ja', 'ja', 'ja', 'non', 'mato']\n",
      "SOURCE: [@start@, ahí, tienen, pues, a, tito, mi, compañero, y, ayudante, cerca, de, ustedes, y, con, él, tienen, a, hermanos, nuestros, delegados, de, las, iglesias, personas, que, son, la, gloria, de, cristo, @end@]\n",
      "GOLD: [@start@, ja, titora, ebetanbi, niai, iki, itan, mato, akinni, ebetanbi, teetai, iki, jatian, ja, non, wetsa, rabéra, non, wetsabaon, raana, iki, jaton, ikábo, oinxonra, jonibaon, non, ibo, rabikanai, @end@]\n",
      "PRED: ['ja', 'mato', 'mato', 'yoiai', 'ja', 'non', 'mato', 'ja', 'non', 'mato', 'ja', 'non', 'mato', 'ja', 'non', 'mato', 'mato', 'mato', 'mato', 'mato', 'mato']\n",
      "SOURCE: [@start@, la, paz, esté, con, ustedes, @end@]\n",
      "GOLD: [@start@, mato, jakonbires, dios, betan, ibanon, @end@]\n",
      "PRED: ['enra', 'mato', 'yoiribiai']\n",
      "SOURCE: [@start@, dijo, faraón, a, josé, @end@]\n",
      "GOLD: [@start@, ja, josé, moa, joketian, faraónman, yoia, iki, neskáakin, @end@]\n",
      "PRED: ['jatian', 'ja', 'jaonmea', 'onannaibo', 'neskáakin', 'yoia', 'iki']\n",
      "SOURCE: [@start@, también, lo, acompañaban, otras, barcas, @end@]\n",
      "GOLD: [@start@, jatian, jato, chibani, jatíribibo, wetsa, botenbo, bokana, iki, @end@]\n",
      "PRED: ['ja', 'ja', 'pichika', 'chonka', 'nete', 'iti', 'iki']\n"
     ]
    }
   ],
   "source": [
    "import itertools\n",
    "for instance in itertools.islice(validation_dataset, 5):\n",
    "    print('SOURCE:', instance.fields['source_tokens'].tokens)\n",
    "    print('GOLD:', instance.fields['target_tokens'].tokens)\n",
    "    print('PRED:', predictor.predict_instance(instance)['predicted_tokens'])"
   ]
  },
  {
   "cell_type": "code",
   "execution_count": 10,
   "metadata": {},
   "outputs": [
    {
     "ename": "FileExistsError",
     "evalue": "[Errno 17] File exists: '/home/krivas/.local/share/jupyter/runtime/kernel-291d3c59-6d17-4313-8051-f97e189c433c.json'",
     "output_type": "error",
     "traceback": [
      "\u001b[0;31m---------------------------------------------------------------------------\u001b[0m",
      "\u001b[0;31mFileExistsError\u001b[0m                           Traceback (most recent call last)",
      "\u001b[0;32m<ipython-input-10-eb3acdde8a90>\u001b[0m in \u001b[0;36m<module>\u001b[0;34m\u001b[0m\n\u001b[1;32m    104\u001b[0m \u001b[0;34m\u001b[0m\u001b[0m\n\u001b[1;32m    105\u001b[0m \u001b[0;32mif\u001b[0m \u001b[0m__name__\u001b[0m \u001b[0;34m==\u001b[0m \u001b[0;34m'__main__'\u001b[0m\u001b[0;34m:\u001b[0m\u001b[0;34m\u001b[0m\u001b[0;34m\u001b[0m\u001b[0m\n\u001b[0;32m--> 106\u001b[0;31m     \u001b[0mfire\u001b[0m\u001b[0;34m.\u001b[0m\u001b[0mFire\u001b[0m\u001b[0;34m(\u001b[0m\u001b[0mmain\u001b[0m\u001b[0;34m)\u001b[0m\u001b[0;34m\u001b[0m\u001b[0;34m\u001b[0m\u001b[0m\n\u001b[0m\u001b[1;32m    107\u001b[0m \u001b[0;34m\u001b[0m\u001b[0m\n",
      "\u001b[0;32m~/anaconda3/lib/python3.7/site-packages/fire/core.py\u001b[0m in \u001b[0;36mFire\u001b[0;34m(component, command, name)\u001b[0m\n\u001b[1;32m    125\u001b[0m   \u001b[0mcontext\u001b[0m\u001b[0;34m.\u001b[0m\u001b[0mupdate\u001b[0m\u001b[0;34m(\u001b[0m\u001b[0mcaller_locals\u001b[0m\u001b[0;34m)\u001b[0m\u001b[0;34m\u001b[0m\u001b[0;34m\u001b[0m\u001b[0m\n\u001b[1;32m    126\u001b[0m \u001b[0;34m\u001b[0m\u001b[0m\n\u001b[0;32m--> 127\u001b[0;31m   \u001b[0mcomponent_trace\u001b[0m \u001b[0;34m=\u001b[0m \u001b[0m_Fire\u001b[0m\u001b[0;34m(\u001b[0m\u001b[0mcomponent\u001b[0m\u001b[0;34m,\u001b[0m \u001b[0margs\u001b[0m\u001b[0;34m,\u001b[0m \u001b[0mcontext\u001b[0m\u001b[0;34m,\u001b[0m \u001b[0mname\u001b[0m\u001b[0;34m)\u001b[0m\u001b[0;34m\u001b[0m\u001b[0;34m\u001b[0m\u001b[0m\n\u001b[0m\u001b[1;32m    128\u001b[0m \u001b[0;34m\u001b[0m\u001b[0m\n\u001b[1;32m    129\u001b[0m   \u001b[0;32mif\u001b[0m \u001b[0mcomponent_trace\u001b[0m\u001b[0;34m.\u001b[0m\u001b[0mHasError\u001b[0m\u001b[0;34m(\u001b[0m\u001b[0;34m)\u001b[0m\u001b[0;34m:\u001b[0m\u001b[0;34m\u001b[0m\u001b[0;34m\u001b[0m\u001b[0m\n",
      "\u001b[0;32m~/anaconda3/lib/python3.7/site-packages/fire/core.py\u001b[0m in \u001b[0;36m_Fire\u001b[0;34m(component, args, context, name)\u001b[0m\n\u001b[1;32m    364\u001b[0m \u001b[0;34m\u001b[0m\u001b[0m\n\u001b[1;32m    365\u001b[0m         component, consumed_args, remaining_args, capacity = _CallCallable(\n\u001b[0;32m--> 366\u001b[0;31m             component, remaining_args)\n\u001b[0m\u001b[1;32m    367\u001b[0m \u001b[0;34m\u001b[0m\u001b[0m\n\u001b[1;32m    368\u001b[0m         \u001b[0;31m# Update the trace.\u001b[0m\u001b[0;34m\u001b[0m\u001b[0;34m\u001b[0m\u001b[0;34m\u001b[0m\u001b[0m\n",
      "\u001b[0;32m~/anaconda3/lib/python3.7/site-packages/fire/core.py\u001b[0m in \u001b[0;36m_CallCallable\u001b[0;34m(fn, args)\u001b[0m\n\u001b[1;32m    540\u001b[0m   \u001b[0;34m(\u001b[0m\u001b[0mvarargs\u001b[0m\u001b[0;34m,\u001b[0m \u001b[0mkwargs\u001b[0m\u001b[0;34m)\u001b[0m\u001b[0;34m,\u001b[0m \u001b[0mconsumed_args\u001b[0m\u001b[0;34m,\u001b[0m \u001b[0mremaining_args\u001b[0m\u001b[0;34m,\u001b[0m \u001b[0mcapacity\u001b[0m \u001b[0;34m=\u001b[0m \u001b[0mparse\u001b[0m\u001b[0;34m(\u001b[0m\u001b[0margs\u001b[0m\u001b[0;34m)\u001b[0m\u001b[0;34m\u001b[0m\u001b[0;34m\u001b[0m\u001b[0m\n\u001b[1;32m    541\u001b[0m \u001b[0;34m\u001b[0m\u001b[0m\n\u001b[0;32m--> 542\u001b[0;31m   \u001b[0mresult\u001b[0m \u001b[0;34m=\u001b[0m \u001b[0mfn\u001b[0m\u001b[0;34m(\u001b[0m\u001b[0;34m*\u001b[0m\u001b[0mvarargs\u001b[0m\u001b[0;34m,\u001b[0m \u001b[0;34m**\u001b[0m\u001b[0mkwargs\u001b[0m\u001b[0;34m)\u001b[0m\u001b[0;34m\u001b[0m\u001b[0;34m\u001b[0m\u001b[0m\n\u001b[0m\u001b[1;32m    543\u001b[0m   \u001b[0;32mreturn\u001b[0m \u001b[0mresult\u001b[0m\u001b[0;34m,\u001b[0m \u001b[0mconsumed_args\u001b[0m\u001b[0;34m,\u001b[0m \u001b[0mremaining_args\u001b[0m\u001b[0;34m,\u001b[0m \u001b[0mcapacity\u001b[0m\u001b[0;34m\u001b[0m\u001b[0;34m\u001b[0m\u001b[0m\n\u001b[1;32m    544\u001b[0m \u001b[0;34m\u001b[0m\u001b[0m\n",
      "\u001b[0;32m<ipython-input-10-eb3acdde8a90>\u001b[0m in \u001b[0;36mmain\u001b[0;34m(data_dir, results_dir, cuda_id, emb_sz, n_hid, epochs, seed)\u001b[0m\n\u001b[1;32m      2\u001b[0m     \u001b[0;31m#name_file='../data/nmt/preprocessed/shp-es/Flashcards/syl'\u001b[0m\u001b[0;34m\u001b[0m\u001b[0;34m\u001b[0m\u001b[0;34m\u001b[0m\u001b[0m\n\u001b[1;32m      3\u001b[0m     \u001b[0;31m#dir_results = 'results_3'\u001b[0m\u001b[0;34m\u001b[0m\u001b[0;34m\u001b[0m\u001b[0;34m\u001b[0m\u001b[0m\n\u001b[0;32m----> 4\u001b[0;31m     \u001b[0mos\u001b[0m\u001b[0;34m.\u001b[0m\u001b[0mmakedirs\u001b[0m\u001b[0;34m(\u001b[0m\u001b[0mresults_dir\u001b[0m\u001b[0;34m,\u001b[0m \u001b[0mexist_ok\u001b[0m\u001b[0;34m=\u001b[0m\u001b[0;32mTrue\u001b[0m\u001b[0;34m)\u001b[0m\u001b[0;34m\u001b[0m\u001b[0;34m\u001b[0m\u001b[0m\n\u001b[0m\u001b[1;32m      5\u001b[0m \u001b[0;34m\u001b[0m\u001b[0m\n\u001b[1;32m      6\u001b[0m     \u001b[0mdata_dir\u001b[0m \u001b[0;34m=\u001b[0m \u001b[0mPath\u001b[0m\u001b[0;34m.\u001b[0m\u001b[0mcwd\u001b[0m\u001b[0;34m(\u001b[0m\u001b[0;34m)\u001b[0m \u001b[0;34m/\u001b[0m \u001b[0mdata_dir\u001b[0m \u001b[0;34m/\u001b[0m \u001b[0;34m'preprocessed'\u001b[0m\u001b[0;34m\u001b[0m\u001b[0;34m\u001b[0m\u001b[0m\n",
      "\u001b[0;32m~/anaconda3/lib/python3.7/os.py\u001b[0m in \u001b[0;36mmakedirs\u001b[0;34m(name, mode, exist_ok)\u001b[0m\n\u001b[1;32m    219\u001b[0m             \u001b[0;32mreturn\u001b[0m\u001b[0;34m\u001b[0m\u001b[0;34m\u001b[0m\u001b[0m\n\u001b[1;32m    220\u001b[0m     \u001b[0;32mtry\u001b[0m\u001b[0;34m:\u001b[0m\u001b[0;34m\u001b[0m\u001b[0;34m\u001b[0m\u001b[0m\n\u001b[0;32m--> 221\u001b[0;31m         \u001b[0mmkdir\u001b[0m\u001b[0;34m(\u001b[0m\u001b[0mname\u001b[0m\u001b[0;34m,\u001b[0m \u001b[0mmode\u001b[0m\u001b[0;34m)\u001b[0m\u001b[0;34m\u001b[0m\u001b[0;34m\u001b[0m\u001b[0m\n\u001b[0m\u001b[1;32m    222\u001b[0m     \u001b[0;32mexcept\u001b[0m \u001b[0mOSError\u001b[0m\u001b[0;34m:\u001b[0m\u001b[0;34m\u001b[0m\u001b[0;34m\u001b[0m\u001b[0m\n\u001b[1;32m    223\u001b[0m         \u001b[0;31m# Cannot rely on checking for EEXIST, since the operating system\u001b[0m\u001b[0;34m\u001b[0m\u001b[0;34m\u001b[0m\u001b[0;34m\u001b[0m\u001b[0m\n",
      "\u001b[0;31mFileExistsError\u001b[0m: [Errno 17] File exists: '/home/krivas/.local/share/jupyter/runtime/kernel-291d3c59-6d17-4313-8051-f97e189c433c.json'"
     ]
    }
   ],
   "source": [
    "\n",
    "def main(data_dir, results_dir, cuda_id=1, emb_sz=300, n_hid=512, epochs=50, seed=0):\n",
    "    #name_file='../data/nmt/preprocessed/shp-es/Flashcards/syl'\n",
    "    #dir_results = 'results_3'\n",
    "    os.makedirs(results_dir, exist_ok=True)\n",
    "    \n",
    "    data_dir = Path.cwd() / data_dir / 'preprocessed'\n",
    "    results_dir = Path.cwd() / results_dir\n",
    "    print(data_dir)\n",
    "    langs = os.listdir(data_dir)\n",
    "    print(langs)\n",
    "    for lang in langs:\n",
    "        folders = os.listdir(data_dir / lang)\n",
    "        with open(results_dir / f'{lang}_{emb_sz}_{seed}.txt', 'w') as f_results:\n",
    "            for folder in folders:\n",
    "                segmentations = os.listdir(data_dir / lang / folder)\n",
    "                print(segmentations)\n",
    "                for segmentation in segmentations:\n",
    "                    print('start with:', segmentation)\n",
    "                    path = data_dir / lang / folder / segmentation\n",
    "                    shutil.rmtree('temp', ignore_errors=True)\n",
    "                    os.makedirs('temp', exist_ok=True)\n",
    "                    \n",
    "                    random_seed(seed)\n",
    "                    reader = Seq2SeqDatasetReader(\n",
    "                        source_tokenizer=WordTokenizer(word_splitter=JustSpacesWordSplitter()),\n",
    "                        target_tokenizer=WordTokenizer(word_splitter=JustSpacesWordSplitter()),\n",
    "                        delimiter='\\t',\n",
    "                        source_token_indexers={'tokens': SingleIdTokenIndexer()},\n",
    "                        target_token_indexers={'tokens': SingleIdTokenIndexer(namespace='target_tokens')})\n",
    "\n",
    "                    train_dataset = reader.read(os.path.join(path, 'train.tsv'))\n",
    "                    validation_dataset = reader.read(os.path.join(path, 'valid.tsv'))\n",
    "                    test_dataset = reader.read(os.path.join(path, 'test.tsv'))\n",
    "\n",
    "\n",
    "                    vocab = Vocabulary.from_instances(train_dataset + validation_dataset,\n",
    "                                                      min_count={'tokens': 1, 'target_tokens': 1})\n",
    "\n",
    "                    random_seed(seed)\n",
    "                    en_embedding = Embedding(num_embeddings=vocab.get_vocab_size('tokens'),\n",
    "                                             embedding_dim=emb_sz)\n",
    "\n",
    "                    random_seed(seed)\n",
    "                    encoder = PytorchSeq2SeqWrapper(torch.nn.GRU(emb_sz, n_hid, dropout=0.25, num_layers=2, bidirectional=True, batch_first=True))\n",
    "\n",
    "                    source_embedder = BasicTextFieldEmbedder({\"tokens\": en_embedding})\n",
    "                    attention = DotProductAttention()\n",
    "\n",
    "                    max_decoding_steps = 100   # TODO: make this variable\n",
    "                    random_seed(seed)\n",
    "                    model = SimpleSeq2Seq(vocab, source_embedder, encoder, max_decoding_steps,\n",
    "                                          target_embedding_dim=emb_sz,\n",
    "                                          target_namespace='target_tokens',\n",
    "                                          attention=attention,\n",
    "                                          seed=seed,\n",
    "                                          mode=segmentation,\n",
    "                                          beam_size=1,\n",
    "                                          use_bleu=True).cuda(cuda_id)\n",
    "\n",
    "                    optimizer = optim.Adam(model.parameters())\n",
    "                    iterator = BucketIterator(batch_size=100, sorting_keys=[(\"source_tokens\", \"num_tokens\")])\n",
    "\n",
    "                    iterator.index_with(vocab)\n",
    "\n",
    "                    if not os.path.exists('temp/best.th'):\n",
    "                        trainer = Trainer(model=model,\n",
    "                                              optimizer=optimizer,\n",
    "                                              iterator=iterator,\n",
    "                                              train_dataset=train_dataset,\n",
    "                                              validation_dataset=validation_dataset,\n",
    "                                              validation_metric='+BLEU',\n",
    "                                              num_epochs=epochs,\n",
    "                                              serialization_dir='temp',\n",
    "                                              cuda_device=cuda_id)\n",
    "\n",
    "                        trainer.train()     \n",
    "\n",
    "                    with open(\"temp/best.th\", 'rb') as f_model:\n",
    "                        model.load_state_dict(torch.load(f_model))\n",
    "                    model.eval()\n",
    "                    e = evaluate(model, test_dataset, iterator, cuda_id, None)    \n",
    "\n",
    "                    predictor = SimpleSeq2SeqPredictor(model, reader)\n",
    "\n",
    "                    scores = []\n",
    "                    if segmentation == 'syl' or segmentation == 'char':\n",
    "                        for instance in test_dataset:\n",
    "                            ref = (''.join([token.text for token in instance.fields['target_tokens'].tokens][1:-1]).replace('@@', ' ').replace('+', '').strip()).split()\n",
    "                            hyp = (''.join(predictor.predict_instance(instance)['predicted_tokens']).replace('@@', ' ').replace('+', '').strip()).split()\n",
    "                            score = cer(hyp, ref)\n",
    "                            scores.append(score)\n",
    "                    else:\n",
    "                        for instance in test_dataset:\n",
    "                            ref = (' '.join([token.text for token in instance.fields['target_tokens'].tokens][1:-1]).replace('@@ ', '').replace('+', '').strip()).split()\n",
    "                            hyp = (' '.join(predictor.predict_instance(instance)['predicted_tokens']).replace('@@ ', '').replace('+', '').strip()).split()\n",
    "                            score = cer(hyp, ref)\n",
    "                            scores.append(score)\n",
    "\n",
    "                    average = sum(scores) / len(scores)\n",
    "                    variance = sum((s - average) ** 2 for s in scores) / len(scores)\n",
    "                    standard_deviation = math.sqrt(variance)\n",
    "\n",
    "                    print(f'{str(segmentation)} CharacTER: {average} BLEU: {e[\"BLEU\"]}', file=f_results)\n",
    "    \n",
    "if __name__ == '__main__':\n",
    "    fire.Fire(main)\n",
    "                                                                        "
   ]
  },
  {
   "cell_type": "code",
   "execution_count": null,
   "metadata": {},
   "outputs": [],
   "source": [
    "reader = Seq2SeqDatasetReader(\n",
    "        source_tokenizer=WordTokenizer(),\n",
    "        target_tokenizer=WordTokenizer(),\n",
    "        source_token_indexers={'tokens': SingleIdTokenIndexer()},\n",
    "        target_token_indexers={'tokens': SingleIdTokenIndexer(namespace='target_tokens')})\n",
    "train_dataset = reader.read('../data/translate/preprocessed/Educativo/word/train.tsv')\n",
    "validation_dataset = reader.read('../data/translate/preprocessed/Educativo/word/valid.tsv')"
   ]
  },
  {
   "cell_type": "code",
   "execution_count": null,
   "metadata": {},
   "outputs": [],
   "source": [
    "vocab = Vocabulary.from_instances(train_dataset + validation_dataset,\n",
    "                                      min_count={'tokens': 1, 'target_tokens': 1})\n"
   ]
  },
  {
   "cell_type": "code",
   "execution_count": null,
   "metadata": {},
   "outputs": [],
   "source": [
    "en_embedding = Embedding(num_embeddings=vocab.get_vocab_size('tokens'),\n",
    "                             embedding_dim=EN_EMBEDDING_DIM)\n",
    "encoder = PytorchSeq2SeqWrapper(\n",
    "torch.nn.LSTM(EN_EMBEDDING_DIM, HIDDEN_DIM, batch_first=True))"
   ]
  },
  {
   "cell_type": "code",
   "execution_count": null,
   "metadata": {},
   "outputs": [],
   "source": [
    "source_embedder = BasicTextFieldEmbedder({\"tokens\": en_embedding})\n",
    "\n",
    "attention = DotProductAttention()\n",
    "\n",
    "max_decoding_steps = 20   # TODO: make this variable\n",
    "model = SimpleSeq2Seq(vocab, source_embedder, encoder, max_decoding_steps,\n",
    "                          target_embedding_dim=ZH_EMBEDDING_DIM,\n",
    "                          target_namespace='target_tokens',\n",
    "                          attention=attention,\n",
    "                          beam_size=8,\n",
    "                          use_bleu=True).cuda()\n",
    "optimizer = optim.Adam(model.parameters())\n",
    "iterator = BucketIterator(batch_size=32, sorting_keys=[(\"source_tokens\", \"num_tokens\")])\n",
    "\n",
    "iterator.index_with(vocab)"
   ]
  },
  {
   "cell_type": "code",
   "execution_count": null,
   "metadata": {},
   "outputs": [],
   "source": [
    "trainer = Trainer(model=model,\n",
    "                      optimizer=optimizer,\n",
    "                      iterator=iterator,\n",
    "                      train_dataset=train_dataset,\n",
    "                      validation_dataset=validation_dataset,\n",
    "                      num_epochs=1,\n",
    "                      cuda_device=CUDA_DEVICE)"
   ]
  },
  {
   "cell_type": "code",
   "execution_count": 15,
   "metadata": {},
   "outputs": [
    {
     "name": "stderr",
     "output_type": "stream",
     "text": [
      "  0%|          | 0/125 [00:00<?, ?it/s]"
     ]
    },
    {
     "name": "stdout",
     "output_type": "stream",
     "text": [
      "Epoch: 0\n"
     ]
    },
    {
     "name": "stderr",
     "output_type": "stream",
     "text": [
      "loss: 6.1913 ||: 100%|██████████| 125/125 [00:03<00:00, 41.52it/s]\n",
      "BLEU: 0.0002, loss: 5.7586 ||: 100%|██████████| 16/16 [00:00<00:00, 25.53it/s]\n",
      "  0%|          | 0/125 [00:00<?, ?it/s]"
     ]
    },
    {
     "name": "stdout",
     "output_type": "stream",
     "text": [
      "SOURCE: [@start@, menos, que, y, tantos, como, @end@]\n",
      "GOLD: [@start@, ichatamainoax, iki, ika, @end@]\n",
      "PRED: ['¿']\n",
      "SOURCE: [@start@, sector, de, biblioteca, @end@]\n",
      "GOLD: [@start@, yoyo, ati, kirikabo, benxoatinko, @end@]\n",
      "PRED: ['¿']\n",
      "SOURCE: [@start@, anota, sus, ideas, en, la, pizarra, @end@]\n",
      "GOLD: [@start@, jaton, shinanbo, wishawe, pisarain, @end@]\n",
      "PRED: ['¿']\n",
      "SOURCE: [@start@, ¿, qué, dificultades, tuvieron, para, escribir, ?, @end@]\n",
      "GOLD: [@start@, ¿, jawe, atikoma, jawekibomein, akanke, merakin, wishatiain, ?, @end@]\n",
      "PRED: ['¿']\n",
      "SOURCE: [@start@, recursos, disponibles, @end@]\n",
      "GOLD: [@start@, jain, jayata, jawekibo, biboantibores, @end@]\n",
      "PRED: []\n",
      "Epoch: 1\n"
     ]
    },
    {
     "name": "stderr",
     "output_type": "stream",
     "text": [
      "loss: 5.5190 ||: 100%|██████████| 125/125 [00:05<00:00, 22.95it/s]\n",
      "BLEU: 0.0000, loss: 5.5032 ||: 100%|██████████| 16/16 [00:01<00:00, 15.44it/s]\n",
      "  0%|          | 0/125 [00:00<?, ?it/s]"
     ]
    },
    {
     "name": "stdout",
     "output_type": "stream",
     "text": [
      "SOURCE: [@start@, menos, que, y, tantos, como, @end@]\n",
      "GOLD: [@start@, ichatamainoax, iki, ika, @end@]\n",
      "PRED: ['¿', 'bake']\n",
      "SOURCE: [@start@, sector, de, biblioteca, @end@]\n",
      "GOLD: [@start@, yoyo, ati, kirikabo, benxoatinko, @end@]\n",
      "PRED: ['¿', 'ati']\n",
      "SOURCE: [@start@, anota, sus, ideas, en, la, pizarra, @end@]\n",
      "GOLD: [@start@, jaton, shinanbo, wishawe, pisarain, @end@]\n",
      "PRED: ['¿', 'bake']\n",
      "SOURCE: [@start@, ¿, qué, dificultades, tuvieron, para, escribir, ?, @end@]\n",
      "GOLD: [@start@, ¿, jawe, atikoma, jawekibomein, akanke, merakin, wishatiain, ?, @end@]\n",
      "PRED: ['¿', 'yoyo', 'ati']\n",
      "SOURCE: [@start@, recursos, disponibles, @end@]\n",
      "GOLD: [@start@, jain, jayata, jawekibo, biboantibores, @end@]\n",
      "PRED: ['yoyo']\n",
      "Epoch: 2\n"
     ]
    },
    {
     "name": "stderr",
     "output_type": "stream",
     "text": [
      "loss: 5.2188 ||: 100%|██████████| 125/125 [00:05<00:00, 24.04it/s]\n",
      "BLEU: 0.0279, loss: 5.3261 ||: 100%|██████████| 16/16 [00:01<00:00, 12.91it/s]\n",
      "  0%|          | 0/125 [00:00<?, ?it/s]"
     ]
    },
    {
     "name": "stdout",
     "output_type": "stream",
     "text": [
      "SOURCE: [@start@, menos, que, y, tantos, como, @end@]\n",
      "GOLD: [@start@, ichatamainoax, iki, ika, @end@]\n",
      "PRED: ['yoyo', 'ati']\n",
      "SOURCE: [@start@, sector, de, biblioteca, @end@]\n",
      "GOLD: [@start@, yoyo, ati, kirikabo, benxoatinko, @end@]\n",
      "PRED: ['yoyo', 'ati']\n",
      "SOURCE: [@start@, anota, sus, ideas, en, la, pizarra, @end@]\n",
      "GOLD: [@start@, jaton, shinanbo, wishawe, pisarain, @end@]\n",
      "PRED: ['benbo', 'bake']\n",
      "SOURCE: [@start@, ¿, qué, dificultades, tuvieron, para, escribir, ?, @end@]\n",
      "GOLD: [@start@, ¿, jawe, atikoma, jawekibomein, akanke, merakin, wishatiain, ?, @end@]\n",
      "PRED: ['benbo', 'bake']\n",
      "SOURCE: [@start@, recursos, disponibles, @end@]\n",
      "GOLD: [@start@, jain, jayata, jawekibo, biboantibores, @end@]\n",
      "PRED: ['yoyo', 'ati']\n",
      "Epoch: 3\n"
     ]
    },
    {
     "name": "stderr",
     "output_type": "stream",
     "text": [
      "loss: 4.9188 ||: 100%|██████████| 125/125 [00:06<00:00, 20.44it/s]\n",
      "BLEU: 0.0369, loss: 5.1097 ||: 100%|██████████| 16/16 [00:01<00:00, 13.15it/s]\n",
      "  0%|          | 0/125 [00:00<?, ?it/s]"
     ]
    },
    {
     "name": "stdout",
     "output_type": "stream",
     "text": [
      "SOURCE: [@start@, menos, que, y, tantos, como, @end@]\n",
      "GOLD: [@start@, ichatamainoax, iki, ika, @end@]\n",
      "PRED: ['yoyo', 'ati']\n",
      "SOURCE: [@start@, sector, de, biblioteca, @end@]\n",
      "GOLD: [@start@, yoyo, ati, kirikabo, benxoatinko, @end@]\n",
      "PRED: ['yoyo', 'ati']\n",
      "SOURCE: [@start@, anota, sus, ideas, en, la, pizarra, @end@]\n",
      "GOLD: [@start@, jaton, shinanbo, wishawe, pisarain, @end@]\n",
      "PRED: ['yoyo', 'ati']\n",
      "SOURCE: [@start@, ¿, qué, dificultades, tuvieron, para, escribir, ?, @end@]\n",
      "GOLD: [@start@, ¿, jawe, atikoma, jawekibomein, akanke, merakin, wishatiain, ?, @end@]\n",
      "PRED: ['¿', 'jawe', 'ati', '?']\n",
      "SOURCE: [@start@, recursos, disponibles, @end@]\n",
      "GOLD: [@start@, jain, jayata, jawekibo, biboantibores, @end@]\n",
      "PRED: ['yoyo', 'ati']\n",
      "Epoch: 4\n"
     ]
    },
    {
     "name": "stderr",
     "output_type": "stream",
     "text": [
      "loss: 4.6388 ||: 100%|██████████| 125/125 [00:05<00:00, 20.94it/s]\n",
      "BLEU: 0.0425, loss: 4.9994 ||: 100%|██████████| 16/16 [00:01<00:00, 13.33it/s]\n",
      "  0%|          | 0/125 [00:00<?, ?it/s]"
     ]
    },
    {
     "name": "stdout",
     "output_type": "stream",
     "text": [
      "SOURCE: [@start@, menos, que, y, tantos, como, @end@]\n",
      "GOLD: [@start@, ichatamainoax, iki, ika, @end@]\n",
      "PRED: ['yoyo', 'ati', 'kopi']\n",
      "SOURCE: [@start@, sector, de, biblioteca, @end@]\n",
      "GOLD: [@start@, yoyo, ati, kirikabo, benxoatinko, @end@]\n",
      "PRED: ['yoyo', 'ati']\n",
      "SOURCE: [@start@, anota, sus, ideas, en, la, pizarra, @end@]\n",
      "GOLD: [@start@, jaton, shinanbo, wishawe, pisarain, @end@]\n",
      "PRED: ['wishawe', 'itan', 'ainbo', 'bakebo']\n",
      "SOURCE: [@start@, ¿, qué, dificultades, tuvieron, para, escribir, ?, @end@]\n",
      "GOLD: [@start@, ¿, jawe, atikoma, jawekibomein, akanke, merakin, wishatiain, ?, @end@]\n",
      "PRED: ['¿', 'jawe', 'akai', '?']\n",
      "SOURCE: [@start@, recursos, disponibles, @end@]\n",
      "GOLD: [@start@, jain, jayata, jawekibo, biboantibores, @end@]\n",
      "PRED: ['tsinkiti']\n",
      "Epoch: 5\n"
     ]
    },
    {
     "name": "stderr",
     "output_type": "stream",
     "text": [
      "loss: 4.4164 ||: 100%|██████████| 125/125 [00:05<00:00, 22.22it/s]\n",
      "BLEU: 0.0462, loss: 4.9462 ||: 100%|██████████| 16/16 [00:01<00:00, 11.31it/s]\n",
      "  0%|          | 0/125 [00:00<?, ?it/s]"
     ]
    },
    {
     "name": "stdout",
     "output_type": "stream",
     "text": [
      "SOURCE: [@start@, menos, que, y, tantos, como, @end@]\n",
      "GOLD: [@start@, ichatamainoax, iki, ika, @end@]\n",
      "PRED: ['jaskaaxon', 'yoyo', 'ati']\n",
      "SOURCE: [@start@, sector, de, biblioteca, @end@]\n",
      "GOLD: [@start@, yoyo, ati, kirikabo, benxoatinko, @end@]\n",
      "PRED: ['yoyo', 'ati', 'atipanke']\n",
      "SOURCE: [@start@, anota, sus, ideas, en, la, pizarra, @end@]\n",
      "GOLD: [@start@, jaton, shinanbo, wishawe, pisarain, @end@]\n",
      "PRED: ['jaskaaxon', 'yoyo', 'ati', 'kopi']\n",
      "SOURCE: [@start@, ¿, qué, dificultades, tuvieron, para, escribir, ?, @end@]\n",
      "GOLD: [@start@, ¿, jawe, atikoma, jawekibomein, akanke, merakin, wishatiain, ?, @end@]\n",
      "PRED: ['¿', 'jawekeskaaxonmein', 'non', 'akai', '?']\n",
      "SOURCE: [@start@, recursos, disponibles, @end@]\n",
      "GOLD: [@start@, jain, jayata, jawekibo, biboantibores, @end@]\n",
      "PRED: ['ja', 'pekao']\n",
      "Epoch: 6\n"
     ]
    },
    {
     "name": "stderr",
     "output_type": "stream",
     "text": [
      "loss: 4.2323 ||: 100%|██████████| 125/125 [00:03<00:00, 41.38it/s]\n",
      "BLEU: 0.0454, loss: 4.9051 ||: 100%|██████████| 16/16 [00:01<00:00, 15.02it/s]\n",
      "  0%|          | 0/125 [00:00<?, ?it/s]"
     ]
    },
    {
     "name": "stdout",
     "output_type": "stream",
     "text": [
      "SOURCE: [@start@, menos, que, y, tantos, como, @end@]\n",
      "GOLD: [@start@, ichatamainoax, iki, ika, @end@]\n",
      "PRED: ['jan', 'teeti', 'jawekibo']\n",
      "SOURCE: [@start@, sector, de, biblioteca, @end@]\n",
      "GOLD: [@start@, yoyo, ati, kirikabo, benxoatinko, @end@]\n",
      "PRED: ['yoyo', 'awe']\n",
      "SOURCE: [@start@, anota, sus, ideas, en, la, pizarra, @end@]\n",
      "GOLD: [@start@, jaton, shinanbo, wishawe, pisarain, @end@]\n",
      "PRED: ['wishawe', 'itan', 'yokawe']\n",
      "SOURCE: [@start@, ¿, qué, dificultades, tuvieron, para, escribir, ?, @end@]\n",
      "GOLD: [@start@, ¿, jawe, atikoma, jawekibomein, akanke, merakin, wishatiain, ?, @end@]\n",
      "PRED: ['¿', 'jawekeskaaxonmein', 'non', 'akai', '?']\n",
      "SOURCE: [@start@, recursos, disponibles, @end@]\n",
      "GOLD: [@start@, jain, jayata, jawekibo, biboantibores, @end@]\n",
      "PRED: ['ja', 'pekao']\n",
      "Epoch: 7\n"
     ]
    },
    {
     "name": "stderr",
     "output_type": "stream",
     "text": [
      "loss: 4.0623 ||: 100%|██████████| 125/125 [00:03<00:00, 37.38it/s]\n",
      "BLEU: 0.0476, loss: 4.9044 ||: 100%|██████████| 16/16 [00:01<00:00, 15.59it/s]\n",
      "  0%|          | 0/125 [00:00<?, ?it/s]"
     ]
    },
    {
     "name": "stdout",
     "output_type": "stream",
     "text": [
      "SOURCE: [@start@, menos, que, y, tantos, como, @end@]\n",
      "GOLD: [@start@, ichatamainoax, iki, ika, @end@]\n",
      "PRED: ['jan', 'teeti', 'jawekibo']\n",
      "SOURCE: [@start@, sector, de, biblioteca, @end@]\n",
      "GOLD: [@start@, yoyo, ati, kirikabo, benxoatinko, @end@]\n",
      "PRED: ['jato', 'yokawe']\n",
      "SOURCE: [@start@, anota, sus, ideas, en, la, pizarra, @end@]\n",
      "GOLD: [@start@, jaton, shinanbo, wishawe, pisarain, @end@]\n",
      "PRED: ['wishawe', 'itan', 'jan', 'teeti', 'jawekibo']\n",
      "SOURCE: [@start@, ¿, qué, dificultades, tuvieron, para, escribir, ?, @end@]\n",
      "GOLD: [@start@, ¿, jawe, atikoma, jawekibomein, akanke, merakin, wishatiain, ?, @end@]\n",
      "PRED: ['¿', 'jawekeskaaxonmein', 'non', 'akai', '?']\n",
      "SOURCE: [@start@, recursos, disponibles, @end@]\n",
      "GOLD: [@start@, jain, jayata, jawekibo, biboantibores, @end@]\n",
      "PRED: ['ja', 'pekao']\n",
      "Epoch: 8\n"
     ]
    },
    {
     "name": "stderr",
     "output_type": "stream",
     "text": [
      "loss: 3.9055 ||: 100%|██████████| 125/125 [00:02<00:00, 43.41it/s]\n",
      "BLEU: 0.0519, loss: 4.8805 ||: 100%|██████████| 16/16 [00:01<00:00, 13.98it/s]\n",
      "  0%|          | 0/125 [00:00<?, ?it/s]"
     ]
    },
    {
     "name": "stdout",
     "output_type": "stream",
     "text": [
      "SOURCE: [@start@, menos, que, y, tantos, como, @end@]\n",
      "GOLD: [@start@, ichatamainoax, iki, ika, @end@]\n",
      "PRED: ['wishawe', 'mesko', 'shinanbo']\n",
      "SOURCE: [@start@, sector, de, biblioteca, @end@]\n",
      "GOLD: [@start@, yoyo, ati, kirikabo, benxoatinko, @end@]\n",
      "PRED: ['yoyo', 'ati', 'kirika']\n",
      "SOURCE: [@start@, anota, sus, ideas, en, la, pizarra, @end@]\n",
      "GOLD: [@start@, jaton, shinanbo, wishawe, pisarain, @end@]\n",
      "PRED: ['wishawe', 'mesko', 'wishabo']\n",
      "SOURCE: [@start@, ¿, qué, dificultades, tuvieron, para, escribir, ?, @end@]\n",
      "GOLD: [@start@, ¿, jawe, atikoma, jawekibomein, akanke, merakin, wishatiain, ?, @end@]\n",
      "PRED: ['¿', 'jawekeskaaxonmein', 'non', 'ati', 'iki', '?']\n",
      "SOURCE: [@start@, recursos, disponibles, @end@]\n",
      "GOLD: [@start@, jain, jayata, jawekibo, biboantibores, @end@]\n",
      "PRED: ['ja', 'pekao']\n",
      "Epoch: 9\n"
     ]
    },
    {
     "name": "stderr",
     "output_type": "stream",
     "text": [
      "loss: 3.7493 ||: 100%|██████████| 125/125 [00:06<00:00, 18.99it/s]\n",
      "BLEU: 0.0487, loss: 4.8917 ||: 100%|██████████| 16/16 [00:01<00:00, 13.19it/s]"
     ]
    },
    {
     "name": "stdout",
     "output_type": "stream",
     "text": [
      "SOURCE: [@start@, menos, que, y, tantos, como, @end@]\n",
      "GOLD: [@start@, ichatamainoax, iki, ika, @end@]\n",
      "PRED: ['wishawe', 'ja', 'pekao']\n",
      "SOURCE: [@start@, sector, de, biblioteca, @end@]\n",
      "GOLD: [@start@, yoyo, ati, kirikabo, benxoatinko, @end@]\n",
      "PRED: ['yoyo', 'akanai']\n",
      "SOURCE: [@start@, anota, sus, ideas, en, la, pizarra, @end@]\n",
      "GOLD: [@start@, jaton, shinanbo, wishawe, pisarain, @end@]\n",
      "PRED: ['wishawe', 'mesko', 'shinanbo', 'ikainko']\n",
      "SOURCE: [@start@, ¿, qué, dificultades, tuvieron, para, escribir, ?, @end@]\n",
      "GOLD: [@start@, ¿, jawe, atikoma, jawekibomein, akanke, merakin, wishatiain, ?, @end@]\n",
      "PRED: ['¿', 'jawekeskaaxonmein', 'non', 'ati', 'iki', '?']\n",
      "SOURCE: [@start@, recursos, disponibles, @end@]\n",
      "GOLD: [@start@, jain, jayata, jawekibo, biboantibores, @end@]\n",
      "PRED: ['ja', 'pekao']\n"
     ]
    },
    {
     "name": "stderr",
     "output_type": "stream",
     "text": [
      "\n"
     ]
    }
   ],
   "source": [
    "for i in range(10):\n",
    "    print('Epoch: {}'.format(i))\n",
    "    trainer.train()\n",
    "\n",
    "    predictor = SimpleSeq2SeqPredictor(model, reader)\n",
    "\n",
    "    for instance in itertools.islice(validation_dataset, 5):\n",
    "        print('SOURCE:', instance.fields['source_tokens'].tokens)\n",
    "        print('GOLD:', instance.fields['target_tokens'].tokens)\n",
    "        print('PRED:', predictor.predict_instance(instance)['predicted_tokens'])"
   ]
  },
  {
   "cell_type": "code",
   "execution_count": null,
   "metadata": {},
   "outputs": [],
   "source": []
  },
  {
   "cell_type": "code",
   "execution_count": null,
   "metadata": {},
   "outputs": [],
   "source": []
  }
 ],
 "metadata": {
  "kernelspec": {
   "display_name": "Python 3",
   "language": "python",
   "name": "python3"
  },
  "language_info": {
   "codemirror_mode": {
    "name": "ipython",
    "version": 3
   },
   "file_extension": ".py",
   "mimetype": "text/x-python",
   "name": "python",
   "nbconvert_exporter": "python",
   "pygments_lexer": "ipython3",
   "version": "3.7.4"
  }
 },
 "nbformat": 4,
 "nbformat_minor": 4
}
